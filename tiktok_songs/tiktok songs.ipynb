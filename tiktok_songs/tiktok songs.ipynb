{
 "cells": [
  {
   "cell_type": "code",
   "execution_count": 2,
   "id": "16bb3326",
   "metadata": {},
   "outputs": [],
   "source": [
    "import pandas as pd"
   ]
  },
  {
   "cell_type": "code",
   "execution_count": null,
   "id": "0a82be8c",
   "metadata": {},
   "outputs": [],
   "source": [
    "# data from https://www.kaggle.com/datasets/sveta151/tiktok-popular-songs-2022"
   ]
  },
  {
   "cell_type": "code",
   "execution_count": 3,
   "id": "eb538205",
   "metadata": {},
   "outputs": [],
   "source": [
    "songs = pd.read_csv('C:/Users/mtsao/Desktop/code_fun/Tiktok_songs_2022.csv') "
   ]
  },
  {
   "cell_type": "code",
   "execution_count": 16,
   "id": "37eba8a6",
   "metadata": {},
   "outputs": [],
   "source": [
    "songs2 = pd.read_csv('../code_fun/Tiktok_songs_2022.csv') # a valid way to access this file"
   ]
  },
  {
   "cell_type": "code",
   "execution_count": 14,
   "id": "0addb051",
   "metadata": {},
   "outputs": [
    {
     "data": {
      "text/html": [
       "<div>\n",
       "<style scoped>\n",
       "    .dataframe tbody tr th:only-of-type {\n",
       "        vertical-align: middle;\n",
       "    }\n",
       "\n",
       "    .dataframe tbody tr th {\n",
       "        vertical-align: top;\n",
       "    }\n",
       "\n",
       "    .dataframe thead th {\n",
       "        text-align: right;\n",
       "    }\n",
       "</style>\n",
       "<table border=\"1\" class=\"dataframe\">\n",
       "  <thead>\n",
       "    <tr style=\"text-align: right;\">\n",
       "      <th></th>\n",
       "      <th>track_name</th>\n",
       "      <th>artist_name</th>\n",
       "      <th>artist_pop</th>\n",
       "      <th>album</th>\n",
       "      <th>track_pop</th>\n",
       "      <th>danceability</th>\n",
       "      <th>energy</th>\n",
       "      <th>loudness</th>\n",
       "      <th>mode</th>\n",
       "      <th>key</th>\n",
       "      <th>speechiness</th>\n",
       "      <th>acousticness</th>\n",
       "      <th>instrumentalness</th>\n",
       "      <th>liveness</th>\n",
       "      <th>valence</th>\n",
       "      <th>tempo</th>\n",
       "      <th>time_signature</th>\n",
       "      <th>duration_ms</th>\n",
       "    </tr>\n",
       "  </thead>\n",
       "  <tbody>\n",
       "    <tr>\n",
       "      <th>0</th>\n",
       "      <td>Running Up That Hill (A Deal With God)</td>\n",
       "      <td>Kate Bush</td>\n",
       "      <td>81</td>\n",
       "      <td>Hounds Of Love</td>\n",
       "      <td>95</td>\n",
       "      <td>0.629</td>\n",
       "      <td>0.547</td>\n",
       "      <td>-13.123</td>\n",
       "      <td>0</td>\n",
       "      <td>10</td>\n",
       "      <td>0.0550</td>\n",
       "      <td>0.7200</td>\n",
       "      <td>0.003140</td>\n",
       "      <td>0.0604</td>\n",
       "      <td>0.197</td>\n",
       "      <td>108.375</td>\n",
       "      <td>4</td>\n",
       "      <td>298933</td>\n",
       "    </tr>\n",
       "    <tr>\n",
       "      <th>1</th>\n",
       "      <td>As It Was</td>\n",
       "      <td>Harry Styles</td>\n",
       "      <td>91</td>\n",
       "      <td>As It Was</td>\n",
       "      <td>96</td>\n",
       "      <td>0.520</td>\n",
       "      <td>0.731</td>\n",
       "      <td>-5.338</td>\n",
       "      <td>0</td>\n",
       "      <td>6</td>\n",
       "      <td>0.0557</td>\n",
       "      <td>0.3420</td>\n",
       "      <td>0.001010</td>\n",
       "      <td>0.3110</td>\n",
       "      <td>0.662</td>\n",
       "      <td>173.930</td>\n",
       "      <td>4</td>\n",
       "      <td>167303</td>\n",
       "    </tr>\n",
       "    <tr>\n",
       "      <th>2</th>\n",
       "      <td>Sunroof</td>\n",
       "      <td>Nicky Youre</td>\n",
       "      <td>73</td>\n",
       "      <td>Sunroof</td>\n",
       "      <td>44</td>\n",
       "      <td>0.768</td>\n",
       "      <td>0.716</td>\n",
       "      <td>-5.110</td>\n",
       "      <td>1</td>\n",
       "      <td>10</td>\n",
       "      <td>0.0404</td>\n",
       "      <td>0.3500</td>\n",
       "      <td>0.000000</td>\n",
       "      <td>0.1500</td>\n",
       "      <td>0.841</td>\n",
       "      <td>131.430</td>\n",
       "      <td>4</td>\n",
       "      <td>163026</td>\n",
       "    </tr>\n",
       "    <tr>\n",
       "      <th>3</th>\n",
       "      <td>Heat Waves</td>\n",
       "      <td>Glass Animals</td>\n",
       "      <td>80</td>\n",
       "      <td>Dreamland (+ Bonus Levels)</td>\n",
       "      <td>89</td>\n",
       "      <td>0.761</td>\n",
       "      <td>0.525</td>\n",
       "      <td>-6.900</td>\n",
       "      <td>1</td>\n",
       "      <td>11</td>\n",
       "      <td>0.0944</td>\n",
       "      <td>0.4400</td>\n",
       "      <td>0.000007</td>\n",
       "      <td>0.0921</td>\n",
       "      <td>0.531</td>\n",
       "      <td>80.870</td>\n",
       "      <td>4</td>\n",
       "      <td>238805</td>\n",
       "    </tr>\n",
       "    <tr>\n",
       "      <th>4</th>\n",
       "      <td>About Damn Time</td>\n",
       "      <td>Lizzo</td>\n",
       "      <td>81</td>\n",
       "      <td>About Damn Time</td>\n",
       "      <td>92</td>\n",
       "      <td>0.836</td>\n",
       "      <td>0.743</td>\n",
       "      <td>-6.305</td>\n",
       "      <td>0</td>\n",
       "      <td>10</td>\n",
       "      <td>0.0656</td>\n",
       "      <td>0.0995</td>\n",
       "      <td>0.000000</td>\n",
       "      <td>0.3350</td>\n",
       "      <td>0.722</td>\n",
       "      <td>108.966</td>\n",
       "      <td>4</td>\n",
       "      <td>191822</td>\n",
       "    </tr>\n",
       "  </tbody>\n",
       "</table>\n",
       "</div>"
      ],
      "text/plain": [
       "                               track_name    artist_name  artist_pop  \\\n",
       "0  Running Up That Hill (A Deal With God)      Kate Bush          81   \n",
       "1                               As It Was   Harry Styles          91   \n",
       "2                                 Sunroof    Nicky Youre          73   \n",
       "3                              Heat Waves  Glass Animals          80   \n",
       "4                         About Damn Time          Lizzo          81   \n",
       "\n",
       "                        album  track_pop  danceability  energy  loudness  \\\n",
       "0              Hounds Of Love         95         0.629   0.547   -13.123   \n",
       "1                   As It Was         96         0.520   0.731    -5.338   \n",
       "2                     Sunroof         44         0.768   0.716    -5.110   \n",
       "3  Dreamland (+ Bonus Levels)         89         0.761   0.525    -6.900   \n",
       "4             About Damn Time         92         0.836   0.743    -6.305   \n",
       "\n",
       "   mode  key  speechiness  acousticness  instrumentalness  liveness  valence  \\\n",
       "0     0   10       0.0550        0.7200          0.003140    0.0604    0.197   \n",
       "1     0    6       0.0557        0.3420          0.001010    0.3110    0.662   \n",
       "2     1   10       0.0404        0.3500          0.000000    0.1500    0.841   \n",
       "3     1   11       0.0944        0.4400          0.000007    0.0921    0.531   \n",
       "4     0   10       0.0656        0.0995          0.000000    0.3350    0.722   \n",
       "\n",
       "     tempo  time_signature  duration_ms  \n",
       "0  108.375               4       298933  \n",
       "1  173.930               4       167303  \n",
       "2  131.430               4       163026  \n",
       "3   80.870               4       238805  \n",
       "4  108.966               4       191822  "
      ]
     },
     "execution_count": 14,
     "metadata": {},
     "output_type": "execute_result"
    }
   ],
   "source": [
    "songs.head()"
   ]
  },
  {
   "cell_type": "code",
   "execution_count": 17,
   "id": "2b026661",
   "metadata": {
    "scrolled": true
   },
   "outputs": [
    {
     "data": {
      "text/html": [
       "<div>\n",
       "<style scoped>\n",
       "    .dataframe tbody tr th:only-of-type {\n",
       "        vertical-align: middle;\n",
       "    }\n",
       "\n",
       "    .dataframe tbody tr th {\n",
       "        vertical-align: top;\n",
       "    }\n",
       "\n",
       "    .dataframe thead th {\n",
       "        text-align: right;\n",
       "    }\n",
       "</style>\n",
       "<table border=\"1\" class=\"dataframe\">\n",
       "  <thead>\n",
       "    <tr style=\"text-align: right;\">\n",
       "      <th></th>\n",
       "      <th>track_name</th>\n",
       "      <th>artist_name</th>\n",
       "      <th>artist_pop</th>\n",
       "      <th>album</th>\n",
       "      <th>track_pop</th>\n",
       "      <th>danceability</th>\n",
       "      <th>energy</th>\n",
       "      <th>loudness</th>\n",
       "      <th>mode</th>\n",
       "      <th>key</th>\n",
       "      <th>speechiness</th>\n",
       "      <th>acousticness</th>\n",
       "      <th>instrumentalness</th>\n",
       "      <th>liveness</th>\n",
       "      <th>valence</th>\n",
       "      <th>tempo</th>\n",
       "      <th>time_signature</th>\n",
       "      <th>duration_ms</th>\n",
       "    </tr>\n",
       "  </thead>\n",
       "  <tbody>\n",
       "    <tr>\n",
       "      <th>0</th>\n",
       "      <td>Running Up That Hill (A Deal With God)</td>\n",
       "      <td>Kate Bush</td>\n",
       "      <td>81</td>\n",
       "      <td>Hounds Of Love</td>\n",
       "      <td>95</td>\n",
       "      <td>0.629</td>\n",
       "      <td>0.547</td>\n",
       "      <td>-13.123</td>\n",
       "      <td>0</td>\n",
       "      <td>10</td>\n",
       "      <td>0.0550</td>\n",
       "      <td>0.7200</td>\n",
       "      <td>0.003140</td>\n",
       "      <td>0.0604</td>\n",
       "      <td>0.197</td>\n",
       "      <td>108.375</td>\n",
       "      <td>4</td>\n",
       "      <td>298933</td>\n",
       "    </tr>\n",
       "    <tr>\n",
       "      <th>1</th>\n",
       "      <td>As It Was</td>\n",
       "      <td>Harry Styles</td>\n",
       "      <td>91</td>\n",
       "      <td>As It Was</td>\n",
       "      <td>96</td>\n",
       "      <td>0.520</td>\n",
       "      <td>0.731</td>\n",
       "      <td>-5.338</td>\n",
       "      <td>0</td>\n",
       "      <td>6</td>\n",
       "      <td>0.0557</td>\n",
       "      <td>0.3420</td>\n",
       "      <td>0.001010</td>\n",
       "      <td>0.3110</td>\n",
       "      <td>0.662</td>\n",
       "      <td>173.930</td>\n",
       "      <td>4</td>\n",
       "      <td>167303</td>\n",
       "    </tr>\n",
       "    <tr>\n",
       "      <th>2</th>\n",
       "      <td>Sunroof</td>\n",
       "      <td>Nicky Youre</td>\n",
       "      <td>73</td>\n",
       "      <td>Sunroof</td>\n",
       "      <td>44</td>\n",
       "      <td>0.768</td>\n",
       "      <td>0.716</td>\n",
       "      <td>-5.110</td>\n",
       "      <td>1</td>\n",
       "      <td>10</td>\n",
       "      <td>0.0404</td>\n",
       "      <td>0.3500</td>\n",
       "      <td>0.000000</td>\n",
       "      <td>0.1500</td>\n",
       "      <td>0.841</td>\n",
       "      <td>131.430</td>\n",
       "      <td>4</td>\n",
       "      <td>163026</td>\n",
       "    </tr>\n",
       "    <tr>\n",
       "      <th>3</th>\n",
       "      <td>Heat Waves</td>\n",
       "      <td>Glass Animals</td>\n",
       "      <td>80</td>\n",
       "      <td>Dreamland (+ Bonus Levels)</td>\n",
       "      <td>89</td>\n",
       "      <td>0.761</td>\n",
       "      <td>0.525</td>\n",
       "      <td>-6.900</td>\n",
       "      <td>1</td>\n",
       "      <td>11</td>\n",
       "      <td>0.0944</td>\n",
       "      <td>0.4400</td>\n",
       "      <td>0.000007</td>\n",
       "      <td>0.0921</td>\n",
       "      <td>0.531</td>\n",
       "      <td>80.870</td>\n",
       "      <td>4</td>\n",
       "      <td>238805</td>\n",
       "    </tr>\n",
       "    <tr>\n",
       "      <th>4</th>\n",
       "      <td>About Damn Time</td>\n",
       "      <td>Lizzo</td>\n",
       "      <td>81</td>\n",
       "      <td>About Damn Time</td>\n",
       "      <td>92</td>\n",
       "      <td>0.836</td>\n",
       "      <td>0.743</td>\n",
       "      <td>-6.305</td>\n",
       "      <td>0</td>\n",
       "      <td>10</td>\n",
       "      <td>0.0656</td>\n",
       "      <td>0.0995</td>\n",
       "      <td>0.000000</td>\n",
       "      <td>0.3350</td>\n",
       "      <td>0.722</td>\n",
       "      <td>108.966</td>\n",
       "      <td>4</td>\n",
       "      <td>191822</td>\n",
       "    </tr>\n",
       "  </tbody>\n",
       "</table>\n",
       "</div>"
      ],
      "text/plain": [
       "                               track_name    artist_name  artist_pop  \\\n",
       "0  Running Up That Hill (A Deal With God)      Kate Bush          81   \n",
       "1                               As It Was   Harry Styles          91   \n",
       "2                                 Sunroof    Nicky Youre          73   \n",
       "3                              Heat Waves  Glass Animals          80   \n",
       "4                         About Damn Time          Lizzo          81   \n",
       "\n",
       "                        album  track_pop  danceability  energy  loudness  \\\n",
       "0              Hounds Of Love         95         0.629   0.547   -13.123   \n",
       "1                   As It Was         96         0.520   0.731    -5.338   \n",
       "2                     Sunroof         44         0.768   0.716    -5.110   \n",
       "3  Dreamland (+ Bonus Levels)         89         0.761   0.525    -6.900   \n",
       "4             About Damn Time         92         0.836   0.743    -6.305   \n",
       "\n",
       "   mode  key  speechiness  acousticness  instrumentalness  liveness  valence  \\\n",
       "0     0   10       0.0550        0.7200          0.003140    0.0604    0.197   \n",
       "1     0    6       0.0557        0.3420          0.001010    0.3110    0.662   \n",
       "2     1   10       0.0404        0.3500          0.000000    0.1500    0.841   \n",
       "3     1   11       0.0944        0.4400          0.000007    0.0921    0.531   \n",
       "4     0   10       0.0656        0.0995          0.000000    0.3350    0.722   \n",
       "\n",
       "     tempo  time_signature  duration_ms  \n",
       "0  108.375               4       298933  \n",
       "1  173.930               4       167303  \n",
       "2  131.430               4       163026  \n",
       "3   80.870               4       238805  \n",
       "4  108.966               4       191822  "
      ]
     },
     "execution_count": 17,
     "metadata": {},
     "output_type": "execute_result"
    }
   ],
   "source": [
    "songs2.head()"
   ]
  },
  {
   "cell_type": "code",
   "execution_count": 18,
   "id": "56c971be",
   "metadata": {},
   "outputs": [],
   "source": [
    "keys = songs['key']"
   ]
  },
  {
   "cell_type": "code",
   "execution_count": 19,
   "id": "75d902c4",
   "metadata": {},
   "outputs": [
    {
     "data": {
      "text/plain": [
       "0    10\n",
       "1     6\n",
       "2    10\n",
       "3    11\n",
       "4    10\n",
       "Name: key, dtype: int64"
      ]
     },
     "execution_count": 19,
     "metadata": {},
     "output_type": "execute_result"
    }
   ],
   "source": [
    "keys.head()"
   ]
  },
  {
   "cell_type": "code",
   "execution_count": 20,
   "id": "a51ae821",
   "metadata": {},
   "outputs": [
    {
     "data": {
      "text/plain": [
       "count    263.000000\n",
       "mean       5.809886\n",
       "std        3.657312\n",
       "min        0.000000\n",
       "25%        2.000000\n",
       "50%        6.000000\n",
       "75%        9.000000\n",
       "max       11.000000\n",
       "Name: key, dtype: float64"
      ]
     },
     "execution_count": 20,
     "metadata": {},
     "output_type": "execute_result"
    }
   ],
   "source": [
    "keys.describe()"
   ]
  },
  {
   "cell_type": "code",
   "execution_count": 22,
   "id": "85e8d482",
   "metadata": {},
   "outputs": [
    {
     "data": {
      "text/plain": [
       "11    33\n",
       "1     30\n",
       "6     27\n",
       "8     27\n",
       "0     25\n",
       "10    23\n",
       "4     23\n",
       "9     19\n",
       "5     18\n",
       "7     18\n",
       "2     12\n",
       "3      8\n",
       "Name: key, dtype: int64"
      ]
     },
     "execution_count": 22,
     "metadata": {},
     "output_type": "execute_result"
    }
   ],
   "source": [
    "keys.value_counts()"
   ]
  },
  {
   "cell_type": "code",
   "execution_count": 51,
   "id": "a1f8aeb6",
   "metadata": {},
   "outputs": [
    {
     "data": {
      "text/plain": [
       "Int64Index([11, 1, 6, 8, 0, 10, 4, 9, 5, 7, 2, 3], dtype='int64')"
      ]
     },
     "execution_count": 51,
     "metadata": {},
     "output_type": "execute_result"
    }
   ],
   "source": [
    "keys.value_counts().index"
   ]
  },
  {
   "cell_type": "code",
   "execution_count": 40,
   "id": "e6b21480",
   "metadata": {},
   "outputs": [
    {
     "data": {
      "text/plain": [
       "11"
      ]
     },
     "execution_count": 40,
     "metadata": {},
     "output_type": "execute_result"
    }
   ],
   "source": [
    "keys.value_counts().index[0]"
   ]
  },
  {
   "cell_type": "code",
   "execution_count": 52,
   "id": "0168e719",
   "metadata": {},
   "outputs": [
    {
     "data": {
      "text/plain": [
       "33"
      ]
     },
     "execution_count": 52,
     "metadata": {},
     "output_type": "execute_result"
    }
   ],
   "source": [
    "keys.value_counts()[11] # tells you key corresponding to 11 pops up in 33 songs"
   ]
  },
  {
   "cell_type": "code",
   "execution_count": 44,
   "id": "2ad21c00",
   "metadata": {},
   "outputs": [
    {
     "data": {
      "text/plain": [
       "33"
      ]
     },
     "execution_count": 44,
     "metadata": {},
     "output_type": "execute_result"
    }
   ],
   "source": [
    "max(keys.value_counts())"
   ]
  },
  {
   "cell_type": "code",
   "execution_count": 57,
   "id": "96078d17",
   "metadata": {},
   "outputs": [
    {
     "name": "stdout",
     "output_type": "stream",
     "text": [
      "The most common key is 11, corresponding to B, and showed up in the dataset 33 times\n"
     ]
    }
   ],
   "source": [
    "for i in keys.value_counts().index:\n",
    "    if keys.value_counts()[i] == max(keys.value_counts()):\n",
    "        print(f'The most common key is {i}, corresponding to B, and showed up in the dataset {keys.value_counts()[i]} times')"
   ]
  },
  {
   "cell_type": "code",
   "execution_count": 50,
   "id": "6d5ea0ef",
   "metadata": {},
   "outputs": [],
   "source": [
    "# finally found a way to find the datapoint appearing the most amount of times(mode)"
   ]
  },
  {
   "cell_type": "code",
   "execution_count": null,
   "id": "d16d19ad",
   "metadata": {},
   "outputs": [],
   "source": [
    "# although technically keys.value_counts is ordered highest to lowest frequency"
   ]
  },
  {
   "cell_type": "code",
   "execution_count": null,
   "id": "aa04191f",
   "metadata": {},
   "outputs": [],
   "source": [
    "#  so keys.value_counts().index[0] is always the object with max freq"
   ]
  },
  {
   "cell_type": "code",
   "execution_count": 5,
   "id": "43846b87",
   "metadata": {},
   "outputs": [],
   "source": [
    "import seaborn as sns"
   ]
  },
  {
   "cell_type": "code",
   "execution_count": 17,
   "id": "c2dfc4e6",
   "metadata": {},
   "outputs": [],
   "source": [
    "import matplotlib.pyplot as plt"
   ]
  },
  {
   "cell_type": "code",
   "execution_count": 6,
   "id": "070a9f9c",
   "metadata": {},
   "outputs": [],
   "source": [
    "sns.set_theme()"
   ]
  },
  {
   "cell_type": "code",
   "execution_count": 27,
   "id": "dab796da",
   "metadata": {},
   "outputs": [
    {
     "data": {
      "text/plain": [
       "<seaborn.axisgrid.FacetGrid at 0x1ddfd56a820>"
      ]
     },
     "execution_count": 27,
     "metadata": {},
     "output_type": "execute_result"
    }
   ],
   "source": [
    "sns.lmplot(data=songs, x = \"tempo\", y = \"artist_pop\")\n"
   ]
  },
  {
   "cell_type": "code",
   "execution_count": 28,
   "id": "dccc630e",
   "metadata": {},
   "outputs": [
    {
     "data": {
      "image/png": "[encoded data removed]",
      "text/plain": [
       "<Figure size 500x500 with 1 Axes>"
      ]
     },
     "metadata": {},
     "output_type": "display_data"
    },
    {
     "data": {
      "image/png": "[encoded data removed]",
      "text/plain": [
       "<Figure size 500x500 with 1 Axes>"
      ]
     },
     "metadata": {},
     "output_type": "display_data"
    }
   ],
   "source": [
    "plt.show()"
   ]
  },
  {
   "cell_type": "code",
   "execution_count": 30,
   "id": "9c95dc67",
   "metadata": {},
   "outputs": [
    {
     "data": {
      "text/plain": [
       "<seaborn.axisgrid.FacetGrid at 0x1ddfe7fb8e0>"
      ]
     },
     "execution_count": 30,
     "metadata": {},
     "output_type": "execute_result"
    }
   ],
   "source": [
    "sns.catplot(data=songs, kind=\"bar\", x=\"mode\", y=\"artist_pop\", hue=\"time_signature\")"
   ]
  },
  {
   "cell_type": "code",
   "execution_count": 31,
   "id": "e4153d83",
   "metadata": {},
   "outputs": [
    {
     "data": {
      "image/png": "[encoded data removed]",
      "text/plain": [
       "<Figure size 621.847x500 with 1 Axes>"
      ]
     },
     "metadata": {},
     "output_type": "display_data"
    }
   ],
   "source": [
    "plt.show()"
   ]
  },
  {
   "cell_type": "code",
   "execution_count": null,
   "id": "274f32f9",
   "metadata": {},
   "outputs": [],
   "source": [
    "# 0 is minor, artist_pop is scale of 0-100 where 100 is most popular"
   ]
  },
  {
   "cell_type": "code",
   "execution_count": null,
   "id": "cb595514",
   "metadata": {},
   "outputs": [],
   "source": [
    "# time signature is n / 4, but some are inaccurate (ex: SZA I Hate U is 4/4, not 5/4)"
   ]
  },
  {
   "cell_type": "code",
   "execution_count": null,
   "id": "63ed7bdf",
   "metadata": {},
   "outputs": [],
   "source": [
    "# 1/1 is probably some rap/trap beat"
   ]
  },
  {
   "cell_type": "code",
   "execution_count": null,
   "id": "69b7cc53",
   "metadata": {},
   "outputs": [],
   "source": [
    "# the hard thing about time signatures is it can be interpreted differently (6/8 == 3/4)"
   ]
  },
  {
   "cell_type": "code",
   "execution_count": 43,
   "id": "16159410",
   "metadata": {},
   "outputs": [
    {
     "data": {
      "text/html": [
       "<div>\n",
       "<style scoped>\n",
       "    .dataframe tbody tr th:only-of-type {\n",
       "        vertical-align: middle;\n",
       "    }\n",
       "\n",
       "    .dataframe tbody tr th {\n",
       "        vertical-align: top;\n",
       "    }\n",
       "\n",
       "    .dataframe thead th {\n",
       "        text-align: right;\n",
       "    }\n",
       "</style>\n",
       "<table border=\"1\" class=\"dataframe\">\n",
       "  <thead>\n",
       "    <tr style=\"text-align: right;\">\n",
       "      <th></th>\n",
       "      <th>track_name</th>\n",
       "      <th>artist_name</th>\n",
       "      <th>artist_pop</th>\n",
       "      <th>album</th>\n",
       "      <th>track_pop</th>\n",
       "      <th>danceability</th>\n",
       "      <th>energy</th>\n",
       "      <th>loudness</th>\n",
       "      <th>mode</th>\n",
       "      <th>key</th>\n",
       "      <th>speechiness</th>\n",
       "      <th>acousticness</th>\n",
       "      <th>instrumentalness</th>\n",
       "      <th>liveness</th>\n",
       "      <th>valence</th>\n",
       "      <th>tempo</th>\n",
       "      <th>time_signature</th>\n",
       "      <th>duration_ms</th>\n",
       "    </tr>\n",
       "  </thead>\n",
       "  <tbody>\n",
       "    <tr>\n",
       "      <th>249</th>\n",
       "      <td>hot girl bummer</td>\n",
       "      <td>blackbear</td>\n",
       "      <td>80</td>\n",
       "      <td>hot girl bummer</td>\n",
       "      <td>5</td>\n",
       "      <td>0.778</td>\n",
       "      <td>0.559</td>\n",
       "      <td>-7.109</td>\n",
       "      <td>0</td>\n",
       "      <td>6</td>\n",
       "      <td>0.0776</td>\n",
       "      <td>0.128</td>\n",
       "      <td>0.0</td>\n",
       "      <td>0.399</td>\n",
       "      <td>0.678</td>\n",
       "      <td>129.989</td>\n",
       "      <td>1</td>\n",
       "      <td>185093</td>\n",
       "    </tr>\n",
       "  </tbody>\n",
       "</table>\n",
       "</div>"
      ],
      "text/plain": [
       "          track_name artist_name  artist_pop            album  track_pop  \\\n",
       "249  hot girl bummer   blackbear          80  hot girl bummer          5   \n",
       "\n",
       "     danceability  energy  loudness  mode  key  speechiness  acousticness  \\\n",
       "249         0.778   0.559    -7.109     0    6       0.0776         0.128   \n",
       "\n",
       "     instrumentalness  liveness  valence    tempo  time_signature  duration_ms  \n",
       "249               0.0     0.399    0.678  129.989               1       185093  "
      ]
     },
     "execution_count": 43,
     "metadata": {},
     "output_type": "execute_result"
    }
   ],
   "source": [
    "songs.loc[songs[\"time_signature\"] == 1]"
   ]
  },
  {
   "cell_type": "code",
   "execution_count": 57,
   "id": "e23ce97f",
   "metadata": {},
   "outputs": [
    {
     "data": {
      "text/plain": [
       "<AxesSubplot:xlabel='artist_pop', ylabel='Count'>"
      ]
     },
     "execution_count": 57,
     "metadata": {},
     "output_type": "execute_result"
    }
   ],
   "source": [
    "sns.histplot(data=songs, x=\"artist_pop\")"
   ]
  },
  {
   "cell_type": "code",
   "execution_count": 58,
   "id": "4a775e98",
   "metadata": {},
   "outputs": [
    {
     "data": {
      "image/png": "[encoded data removed]",
      "text/plain": [
       "<Figure size 640x480 with 1 Axes>"
      ]
     },
     "metadata": {},
     "output_type": "display_data"
    }
   ],
   "source": [
    "plt.show()"
   ]
  },
  {
   "cell_type": "code",
   "execution_count": 64,
   "id": "e6ae13ab",
   "metadata": {},
   "outputs": [
    {
     "data": {
      "text/plain": [
       "<seaborn.axisgrid.FacetGrid at 0x1dd897268b0>"
      ]
     },
     "execution_count": 64,
     "metadata": {},
     "output_type": "execute_result"
    }
   ],
   "source": [
    "sns.catplot(data=songs, kind=\"bar\", x=\"mode\", y=\"artist_pop\")\n",
    "sns.catplot(data=songs, kind=\"bar\", x=\"time_signature\", y=\"artist_pop\")"
   ]
  },
  {
   "cell_type": "code",
   "execution_count": 65,
   "id": "54a022e4",
   "metadata": {},
   "outputs": [
    {
     "data": {
      "image/png": "[encoded data removed]",
      "text/plain": [
       "<Figure size 500x500 with 1 Axes>"
      ]
     },
     "metadata": {},
     "output_type": "display_data"
    },
    {
     "data": {
      "image/png": "[encoded data removed]",
      "text/plain": [
       "<Figure size 500x500 with 1 Axes>"
      ]
     },
     "metadata": {},
     "output_type": "display_data"
    },
    {
     "data": {
      "image/png": "[encoded data removed]",
      "text/plain": [
       "<Figure size 500x500 with 1 Axes>"
      ]
     },
     "metadata": {},
     "output_type": "display_data"
    }
   ],
   "source": [
    "plt.show()"
   ]
  },
  {
   "cell_type": "code",
   "execution_count": 66,
   "id": "e4fbdf3b",
   "metadata": {},
   "outputs": [
    {
     "data": {
      "text/plain": [
       "<seaborn.axisgrid.FacetGrid at 0x1dd8974d1f0>"
      ]
     },
     "execution_count": 66,
     "metadata": {},
     "output_type": "execute_result"
    }
   ],
   "source": [
    "sns.catplot(data=songs, kind=\"bar\", x=\"key\", y=\"artist_pop\")"
   ]
  },
  {
   "cell_type": "code",
   "execution_count": 67,
   "id": "a0fd4574",
   "metadata": {},
   "outputs": [
    {
     "data": {
      "image/png": "[encoded data removed]",
      "text/plain": [
       "<Figure size 500x500 with 1 Axes>"
      ]
     },
     "metadata": {},
     "output_type": "display_data"
    }
   ],
   "source": [
    "plt.show()"
   ]
  },
  {
   "cell_type": "code",
   "execution_count": 68,
   "id": "3dda506e",
   "metadata": {},
   "outputs": [],
   "source": [
    "# keys corresponding to most popular songs are 3 (c = 0, c# = 1, d = 2, d#/eb = 3)\n",
    "# Eb being popular checks out"
   ]
  },
  {
   "cell_type": "code",
   "execution_count": 69,
   "id": "11c88457",
   "metadata": {},
   "outputs": [
    {
     "data": {
      "text/html": [
       "<div>\n",
       "<style scoped>\n",
       "    .dataframe tbody tr th:only-of-type {\n",
       "        vertical-align: middle;\n",
       "    }\n",
       "\n",
       "    .dataframe tbody tr th {\n",
       "        vertical-align: top;\n",
       "    }\n",
       "\n",
       "    .dataframe thead th {\n",
       "        text-align: right;\n",
       "    }\n",
       "</style>\n",
       "<table border=\"1\" class=\"dataframe\">\n",
       "  <thead>\n",
       "    <tr style=\"text-align: right;\">\n",
       "      <th></th>\n",
       "      <th>track_name</th>\n",
       "      <th>artist_name</th>\n",
       "      <th>artist_pop</th>\n",
       "      <th>album</th>\n",
       "      <th>track_pop</th>\n",
       "      <th>danceability</th>\n",
       "      <th>energy</th>\n",
       "      <th>loudness</th>\n",
       "      <th>mode</th>\n",
       "      <th>key</th>\n",
       "      <th>speechiness</th>\n",
       "      <th>acousticness</th>\n",
       "      <th>instrumentalness</th>\n",
       "      <th>liveness</th>\n",
       "      <th>valence</th>\n",
       "      <th>tempo</th>\n",
       "      <th>time_signature</th>\n",
       "      <th>duration_ms</th>\n",
       "    </tr>\n",
       "  </thead>\n",
       "  <tbody>\n",
       "    <tr>\n",
       "      <th>23</th>\n",
       "      <td>INDUSTRY BABY (feat. Jack Harlow)</td>\n",
       "      <td>Lil Nas X</td>\n",
       "      <td>81</td>\n",
       "      <td>INDUSTRY BABY (feat. Jack Harlow)</td>\n",
       "      <td>86</td>\n",
       "      <td>0.736</td>\n",
       "      <td>0.704</td>\n",
       "      <td>-7.409</td>\n",
       "      <td>0</td>\n",
       "      <td>3</td>\n",
       "      <td>0.0615</td>\n",
       "      <td>0.0203</td>\n",
       "      <td>0.000000</td>\n",
       "      <td>0.0501</td>\n",
       "      <td>0.894</td>\n",
       "      <td>149.995</td>\n",
       "      <td>4</td>\n",
       "      <td>212000</td>\n",
       "    </tr>\n",
       "    <tr>\n",
       "      <th>36</th>\n",
       "      <td>Riptide</td>\n",
       "      <td>Viva La Panda</td>\n",
       "      <td>56</td>\n",
       "      <td>Riptide</td>\n",
       "      <td>51</td>\n",
       "      <td>0.621</td>\n",
       "      <td>0.847</td>\n",
       "      <td>-6.108</td>\n",
       "      <td>1</td>\n",
       "      <td>3</td>\n",
       "      <td>0.2780</td>\n",
       "      <td>0.0584</td>\n",
       "      <td>0.000001</td>\n",
       "      <td>0.1090</td>\n",
       "      <td>0.373</td>\n",
       "      <td>101.996</td>\n",
       "      <td>4</td>\n",
       "      <td>172431</td>\n",
       "    </tr>\n",
       "    <tr>\n",
       "      <th>61</th>\n",
       "      <td>Build a Bitch</td>\n",
       "      <td>Bella Poarch</td>\n",
       "      <td>65</td>\n",
       "      <td>Build a Bitch</td>\n",
       "      <td>76</td>\n",
       "      <td>0.855</td>\n",
       "      <td>0.463</td>\n",
       "      <td>-7.454</td>\n",
       "      <td>1</td>\n",
       "      <td>3</td>\n",
       "      <td>0.0367</td>\n",
       "      <td>0.2170</td>\n",
       "      <td>0.000018</td>\n",
       "      <td>0.3470</td>\n",
       "      <td>0.866</td>\n",
       "      <td>102.931</td>\n",
       "      <td>4</td>\n",
       "      <td>122773</td>\n",
       "    </tr>\n",
       "    <tr>\n",
       "      <th>123</th>\n",
       "      <td>Ain't Shit</td>\n",
       "      <td>Doja Cat</td>\n",
       "      <td>88</td>\n",
       "      <td>Planet Her</td>\n",
       "      <td>81</td>\n",
       "      <td>0.855</td>\n",
       "      <td>0.488</td>\n",
       "      <td>-4.601</td>\n",
       "      <td>1</td>\n",
       "      <td>3</td>\n",
       "      <td>0.2080</td>\n",
       "      <td>0.5060</td>\n",
       "      <td>0.000000</td>\n",
       "      <td>0.3470</td>\n",
       "      <td>0.619</td>\n",
       "      <td>124.097</td>\n",
       "      <td>4</td>\n",
       "      <td>174253</td>\n",
       "    </tr>\n",
       "    <tr>\n",
       "      <th>126</th>\n",
       "      <td>Todo De Ti</td>\n",
       "      <td>Rauw Alejandro</td>\n",
       "      <td>89</td>\n",
       "      <td>Todo De Ti</td>\n",
       "      <td>82</td>\n",
       "      <td>0.780</td>\n",
       "      <td>0.718</td>\n",
       "      <td>-3.605</td>\n",
       "      <td>0</td>\n",
       "      <td>3</td>\n",
       "      <td>0.0506</td>\n",
       "      <td>0.3100</td>\n",
       "      <td>0.000163</td>\n",
       "      <td>0.0932</td>\n",
       "      <td>0.342</td>\n",
       "      <td>127.949</td>\n",
       "      <td>4</td>\n",
       "      <td>199604</td>\n",
       "    </tr>\n",
       "    <tr>\n",
       "      <th>143</th>\n",
       "      <td>Whoopty</td>\n",
       "      <td>CJ</td>\n",
       "      <td>63</td>\n",
       "      <td>Whoopty</td>\n",
       "      <td>74</td>\n",
       "      <td>0.719</td>\n",
       "      <td>0.648</td>\n",
       "      <td>-7.600</td>\n",
       "      <td>0</td>\n",
       "      <td>3</td>\n",
       "      <td>0.1250</td>\n",
       "      <td>0.2000</td>\n",
       "      <td>0.000000</td>\n",
       "      <td>0.1270</td>\n",
       "      <td>0.660</td>\n",
       "      <td>140.201</td>\n",
       "      <td>4</td>\n",
       "      <td>123263</td>\n",
       "    </tr>\n",
       "    <tr>\n",
       "      <th>191</th>\n",
       "      <td>Wait a Minute!</td>\n",
       "      <td>WILLOW</td>\n",
       "      <td>76</td>\n",
       "      <td>ARDIPITHECUS</td>\n",
       "      <td>86</td>\n",
       "      <td>0.764</td>\n",
       "      <td>0.705</td>\n",
       "      <td>-5.279</td>\n",
       "      <td>0</td>\n",
       "      <td>3</td>\n",
       "      <td>0.0278</td>\n",
       "      <td>0.0371</td>\n",
       "      <td>0.000019</td>\n",
       "      <td>0.0943</td>\n",
       "      <td>0.672</td>\n",
       "      <td>101.003</td>\n",
       "      <td>4</td>\n",
       "      <td>196520</td>\n",
       "    </tr>\n",
       "    <tr>\n",
       "      <th>194</th>\n",
       "      <td>FLIP THE SWITCH (feat. Drake)</td>\n",
       "      <td>Quavo</td>\n",
       "      <td>79</td>\n",
       "      <td>QUAVO HUNCHO</td>\n",
       "      <td>67</td>\n",
       "      <td>0.853</td>\n",
       "      <td>0.637</td>\n",
       "      <td>-5.924</td>\n",
       "      <td>0</td>\n",
       "      <td>3</td>\n",
       "      <td>0.3310</td>\n",
       "      <td>0.1290</td>\n",
       "      <td>0.000000</td>\n",
       "      <td>0.2670</td>\n",
       "      <td>0.496</td>\n",
       "      <td>86.048</td>\n",
       "      <td>4</td>\n",
       "      <td>156195</td>\n",
       "    </tr>\n",
       "  </tbody>\n",
       "</table>\n",
       "</div>"
      ],
      "text/plain": [
       "                            track_name     artist_name  artist_pop  \\\n",
       "23   INDUSTRY BABY (feat. Jack Harlow)       Lil Nas X          81   \n",
       "36                             Riptide   Viva La Panda          56   \n",
       "61                       Build a Bitch    Bella Poarch          65   \n",
       "123                         Ain't Shit        Doja Cat          88   \n",
       "126                         Todo De Ti  Rauw Alejandro          89   \n",
       "143                            Whoopty              CJ          63   \n",
       "191                     Wait a Minute!          WILLOW          76   \n",
       "194      FLIP THE SWITCH (feat. Drake)           Quavo          79   \n",
       "\n",
       "                                 album  track_pop  danceability  energy  \\\n",
       "23   INDUSTRY BABY (feat. Jack Harlow)         86         0.736   0.704   \n",
       "36                             Riptide         51         0.621   0.847   \n",
       "61                       Build a Bitch         76         0.855   0.463   \n",
       "123                         Planet Her         81         0.855   0.488   \n",
       "126                         Todo De Ti         82         0.780   0.718   \n",
       "143                            Whoopty         74         0.719   0.648   \n",
       "191                       ARDIPITHECUS         86         0.764   0.705   \n",
       "194                       QUAVO HUNCHO         67         0.853   0.637   \n",
       "\n",
       "     loudness  mode  key  speechiness  acousticness  instrumentalness  \\\n",
       "23     -7.409     0    3       0.0615        0.0203          0.000000   \n",
       "36     -6.108     1    3       0.2780        0.0584          0.000001   \n",
       "61     -7.454     1    3       0.0367        0.2170          0.000018   \n",
       "123    -4.601     1    3       0.2080        0.5060          0.000000   \n",
       "126    -3.605     0    3       0.0506        0.3100          0.000163   \n",
       "143    -7.600     0    3       0.1250        0.2000          0.000000   \n",
       "191    -5.279     0    3       0.0278        0.0371          0.000019   \n",
       "194    -5.924     0    3       0.3310        0.1290          0.000000   \n",
       "\n",
       "     liveness  valence    tempo  time_signature  duration_ms  \n",
       "23     0.0501    0.894  149.995               4       212000  \n",
       "36     0.1090    0.373  101.996               4       172431  \n",
       "61     0.3470    0.866  102.931               4       122773  \n",
       "123    0.3470    0.619  124.097               4       174253  \n",
       "126    0.0932    0.342  127.949               4       199604  \n",
       "143    0.1270    0.660  140.201               4       123263  \n",
       "191    0.0943    0.672  101.003               4       196520  \n",
       "194    0.2670    0.496   86.048               4       156195  "
      ]
     },
     "execution_count": 69,
     "metadata": {},
     "output_type": "execute_result"
    }
   ],
   "source": [
    "songs.loc[songs[\"key\"] == 3]"
   ]
  },
  {
   "cell_type": "code",
   "execution_count": 80,
   "id": "08034041",
   "metadata": {},
   "outputs": [
    {
     "data": {
      "text/plain": [
       "<AxesSubplot:xlabel='key', ylabel='Count'>"
      ]
     },
     "execution_count": 80,
     "metadata": {},
     "output_type": "execute_result"
    }
   ],
   "source": [
    "sns.histplot(data=songs, x=\"key\", binwidth=1)"
   ]
  },
  {
   "cell_type": "code",
   "execution_count": 81,
   "id": "31a84bf7",
   "metadata": {},
   "outputs": [
    {
     "data": {
      "image/png": "[encoded data removed]",
      "text/plain": [
       "<Figure size 640x480 with 1 Axes>"
      ]
     },
     "metadata": {},
     "output_type": "display_data"
    }
   ],
   "source": [
    "plt.show()"
   ]
  },
  {
   "cell_type": "code",
   "execution_count": null,
   "id": "85cc4208",
   "metadata": {},
   "outputs": [],
   "source": [
    "# create a logistic classifier model taking in key, tempo, time signature, duration to predict the popularity of a song"
   ]
  }
 ],
 "metadata": {
  "kernelspec": {
   "display_name": "Python 3 (ipykernel)",
   "language": "python",
   "name": "python3"
  },
  "language_info": {
   "codemirror_mode": {
    "name": "ipython",
    "version": 3
   },
   "file_extension": ".py",
   "mimetype": "text/x-python",
   "name": "python",
   "nbconvert_exporter": "python",
   "pygments_lexer": "ipython3",
   "version": "3.9.13"
  }
 },
 "nbformat": 4,
 "nbformat_minor": 5
}
